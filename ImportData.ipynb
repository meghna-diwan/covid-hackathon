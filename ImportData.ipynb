{
 "cells": [
  {
   "cell_type": "code",
   "execution_count": 260,
   "metadata": {},
   "outputs": [],
   "source": [
    "# import following packages first\n",
    "%matplotlib inline\n",
    "import numpy as np\n",
    "import pandas as pd\n",
    "from scipy import stats\n",
    "import matplotlib.pyplot as plt\n",
    "import seaborn as sns\n",
    "import missingno as msno\n",
    "\n",
    "pd.set_option('display.max_rows', 200)\n",
    "pd.set_option('display.max_columns', 200)"
   ]
  },
  {
   "cell_type": "code",
   "execution_count": 261,
   "metadata": {},
   "outputs": [],
   "source": [
    "from os import listdir\n",
    "from os.path import join\n",
    "source_path = '/Users/meghnadiwan/Downloads/Hackathon/COVID-19-master/csse_covid_19_data/csse_covid_19_daily_reports/'"
   ]
  },
  {
   "cell_type": "code",
   "execution_count": 262,
   "metadata": {},
   "outputs": [],
   "source": [
    "files = [f for f in listdir(source_path) if f.endswith('.csv')]"
   ]
  },
  {
   "cell_type": "code",
   "execution_count": 263,
   "metadata": {},
   "outputs": [],
   "source": [
    "df = pd.concat([pd.read_csv(join(source_path, f_name)) for f_name in files], sort = False)\n",
    "\n",
    "#subset to US only\n",
    "df = df[df['Country/Region'] == \"US\"]"
   ]
  },
  {
   "cell_type": "code",
   "execution_count": 264,
   "metadata": {},
   "outputs": [],
   "source": [
    "# keep on columns needed\n",
    "cols = ['Province/State', 'Country/Region', 'Last Update', 'Confirmed',\n",
    "       'Deaths', 'Recovered','Latitude', 'Longitude']\n",
    "df = df[cols]"
   ]
  },
  {
   "cell_type": "code",
   "execution_count": 265,
   "metadata": {},
   "outputs": [],
   "source": [
    "# convert date to datetime\n",
    "df['Last Update'] = pd.to_datetime(df['Last Update'])"
   ]
  },
  {
   "cell_type": "code",
   "execution_count": 266,
   "metadata": {},
   "outputs": [],
   "source": [
    "# remove (From Diamond Princess)\n",
    "df['Province/State'] = df['Province/State'].str.replace(\"(From Diamond Princess)\", \"\")\n",
    "df['Province/State'] = df['Province/State'].str.strip(\" ()\")"
   ]
  },
  {
   "cell_type": "code",
   "execution_count": 267,
   "metadata": {},
   "outputs": [],
   "source": [
    "#Split Province/State into Province and State\n",
    "split = df['Province/State'].str.split(',', expand=True)\n",
    "df['Province'] = split[0].str.strip()\n",
    "df['State'] = split[1].str.strip()"
   ]
  },
  {
   "cell_type": "code",
   "execution_count": 268,
   "metadata": {},
   "outputs": [],
   "source": [
    "# Replace missing State values using dictionary below\n",
    "st_dict = {'Unassigned Location': 'Unassigned Location', \n",
    "              'Washington':'WA', 'New York':'NY', 'California':'CA',\n",
    "              'Massachusetts':'MA','Georgia':'GA','Colorado':'CO', \n",
    "              'Florida':'FL', 'New Jersey':'NJ', 'Oregon':'OR', \n",
    "              'Texas':'TX', 'Illinois':'IL', 'Pennsylvania':'PA', \n",
    "              'Iowa':'IA', 'Maryland':'MD', 'North Carolina':'NC',\n",
    "              'South Carolina':'SC', 'Tennessee':'TN', 'Virginia':'VA', \n",
    "              'Arizona':'AZ', 'Indiana':'IN','Kentucky':'KY', \n",
    "              'District of Columbia':'D.C.', 'Nevada':'NV', 'New Hampshire':'NH',\n",
    "              'Minnesota':'MN', 'Nebraska':'NE', 'Ohio':'OH', 'Rhode Island':'RI', \n",
    "              'Wisconsin':'WI','Connecticut':'CT', 'Hawaii':'HI', 'Oklahoma':'OK', \n",
    "              'Utah':'UT', 'Kansas':'KS', 'Louisiana':'LA','Missouri':'MO', \n",
    "              'Vermont':'VT', 'Alaska':'AK', 'Arkansas':'AR', 'Delaware':'DE', \n",
    "              'Idaho':'ID','Maine':'ME', 'Michigan':'MI', 'Mississippi':'MS', \n",
    "              'Montana':'MT', 'New Mexico':'NM','North Dakota':'ND', 'South Dakota':'SD', \n",
    "              'West Virginia':'WV', 'Wyoming':'WY','Alabama':'AL', 'Puerto Rico':'PR', \n",
    "              'Guam': 'GU','Virgin Islands':'VI', 'United States Virgin Islands': 'VI', 'Chicago':'IL'}\n",
    "df['State'] = df['State'].fillna(df.Province.map(st_dict))"
   ]
  },
  {
   "cell_type": "code",
   "execution_count": 269,
   "metadata": {},
   "outputs": [
    {
     "name": "stdout",
     "output_type": "stream",
     "text": [
      "<class 'pandas.core.frame.DataFrame'>\n",
      "Int64Index: 1560 entries, 36 to 254\n",
      "Data columns (total 10 columns):\n",
      "Province/State    1560 non-null object\n",
      "Country/Region    1560 non-null object\n",
      "Last Update       1560 non-null datetime64[ns]\n",
      "Confirmed         1560 non-null float64\n",
      "Deaths            1530 non-null float64\n",
      "Recovered         1530 non-null float64\n",
      "Latitude          1186 non-null float64\n",
      "Longitude         1186 non-null float64\n",
      "Province          1560 non-null object\n",
      "State             1529 non-null object\n",
      "dtypes: datetime64[ns](1), float64(5), object(4)\n",
      "memory usage: 134.1+ KB\n"
     ]
    }
   ],
   "source": [
    "df.info()"
   ]
  },
  {
   "cell_type": "code",
   "execution_count": 270,
   "metadata": {},
   "outputs": [
    {
     "data": {
      "text/plain": [
       "array(['Unassigned Location', 'IL', 'CA', 'MA', 'WI', 'TX', 'WA', 'AZ',\n",
       "       'NE', 'NY', nan, 'GA', 'CO', 'FL', 'NJ', 'OR', 'PA', 'IA', 'MD',\n",
       "       'NC', 'SC', 'TN', 'VA', 'IN', 'KY', 'D.C.', 'NV', 'NH', 'MN', 'OH',\n",
       "       'RI', 'CT', 'HI', 'OK', 'UT', 'KS', 'LA', 'MO', 'VT', 'AK', 'AR',\n",
       "       'DE', 'ID', 'ME', 'MI', 'MS', 'MT', 'NM', 'ND', 'SD', 'WV', 'WY',\n",
       "       'AL', 'PR', 'GU', 'VI', 'U.S.'], dtype=object)"
      ]
     },
     "execution_count": 270,
     "metadata": {},
     "output_type": "execute_result"
    }
   ],
   "source": [
    "df.State.unique()"
   ]
  },
  {
   "cell_type": "code",
   "execution_count": 271,
   "metadata": {},
   "outputs": [],
   "source": [
    "df['Free Treatment'] = 0\n",
    "df['Early RX Refills'] = 0\n",
    "df['SEP'] = 0\n",
    "df['Waiver 1135'] = 0\n",
    "df['Paid Sick Leave'] = 0"
   ]
  },
  {
   "cell_type": "code",
   "execution_count": 272,
   "metadata": {},
   "outputs": [],
   "source": [
    "# No cost for treatment\n",
    "df['Free Treatment'] = np.where((df['Last Update'] >= '2020-03-12') & (df.State == 'D.C.'), 1, df['Free Treatment'])\n",
    "df['Free Treatment'] = np.where((df['Last Update'] >= '2020-03-06') & (df.State == 'MA'), 1, df['Free Treatment'])\n",
    "df['Free Treatment'] = np.where((df['Last Update'] >= '2020-03-13') & (df.State == 'NM'), 1, df['Free Treatment'])"
   ]
  },
  {
   "cell_type": "code",
   "execution_count": 273,
   "metadata": {},
   "outputs": [
    {
     "data": {
      "text/plain": [
       "0    1513\n",
       "1      47\n",
       "Name: Free Treatment, dtype: int64"
      ]
     },
     "execution_count": 273,
     "metadata": {},
     "output_type": "execute_result"
    }
   ],
   "source": [
    "df['Free Treatment'].value_counts()"
   ]
  },
  {
   "cell_type": "code",
   "execution_count": 274,
   "metadata": {},
   "outputs": [],
   "source": [
    "# Early Prescription Refills\n",
    "df['Early RX Refills'] = np.where((df['Last Update'] >= '2020-03-05') & (df.State == 'WA'), 1, df['Early RX Refills'])\n",
    "df['Early RX Refills'] = np.where((df['Last Update'] >= '2020-03-18') & (df.State == 'CA'), 1, df['Early RX Refills'])\n",
    "df['Early RX Refills'] = np.where((df['Last Update'] >= '2020-03-03') & (df.State == 'AK'), 1, df['Early RX Refills'])\n",
    "df['Early RX Refills'] = np.where((df['Last Update'] >= '2020-03-09') & (df.State == 'CO'), 1, df['Early RX Refills'])\n",
    "df['Early RX Refills'] = np.where((df['Last Update'] >= '2020-03-17') & (df.State == 'LA'), 1, df['Early RX Refills'])\n",
    "df['Early RX Refills'] = np.where((df['Last Update'] >= '2020-03-20') & (df.State == 'GA'), 1, df['Early RX Refills'])\n",
    "df['Early RX Refills'] = np.where((df['Last Update'] >= '2020-03-10') & (df.State == 'FL'), 1, df['Early RX Refills'])\n",
    "df['Early RX Refills'] = np.where((df['Last Update'] >= '2020-03-09') & (df.State == 'KY'), 1, df['Early RX Refills'])\n",
    "df['Early RX Refills'] = np.where((df['Last Update'] >= '2020-03-13') & (df.State == 'WV'), 1, df['Early RX Refills'])\n",
    "df['Early RX Refills'] = np.where((df['Last Update'] >= '2020-03-12') & (df.State == 'ME'), 1, df['Early RX Refills'])\n",
    "df['Early RX Refills'] = np.where((df['Last Update'] >= '2020-03-10') & (df.State == 'NH'), 1, df['Early RX Refills'])\n",
    "df['Early RX Refills'] = np.where((df['Last Update'] >= '2020-03-26') & (df.State == 'MA'), 1, df['Early RX Refills'])\n",
    "df['Early RX Refills'] = np.where((df['Last Update'] >= '2020-03-13') & (df.State == 'RI'), 1, df['Early RX Refills'])\n",
    "df['Early RX Refills'] = np.where((df['Last Update'] >= '2020-03-09') & (df.State == 'DE'), 1, df['Early RX Refills'])\n",
    "df['Early RX Refills'] = np.where((df['Last Update'] >= '2020-03-06') & (df.State == 'MD'), 1, df['Early RX Refills'])\n",
    "df['Early RX Refills'] = np.where((df['Last Update'] >= '2020-03-12') & (df.State == 'DC'), 1, df['Early RX Refills'])"
   ]
  },
  {
   "cell_type": "code",
   "execution_count": 275,
   "metadata": {},
   "outputs": [
    {
     "data": {
      "text/plain": [
       "0    1393\n",
       "1     167\n",
       "Name: Early RX Refills, dtype: int64"
      ]
     },
     "execution_count": 275,
     "metadata": {},
     "output_type": "execute_result"
    }
   ],
   "source": [
    "df['Early RX Refills'].value_counts()"
   ]
  },
  {
   "cell_type": "code",
   "execution_count": 276,
   "metadata": {},
   "outputs": [],
   "source": [
    "# SEP\n",
    "df['SEP'] = np.where((df['Last Update'] >= '2020-02-18') & (df.State == 'CA'), 1, df['SEP'])\n",
    "df['SEP'] = np.where((df['Last Update'] >= '2020-03-19') & (df.State == 'CO'), 1, df['SEP'])\n",
    "df['SEP'] = np.where((df['Last Update'] >= '2020-03-17') & (df.State == 'CT'), 1, df['SEP'])\n",
    "df['SEP'] = np.where((df['Last Update'] >= '2020-02-25') & (df.State == 'D.C.'), 1, df['SEP'])\n",
    "df['SEP'] = np.where((df['Last Update'] >= '2020-03-13') & (df.State == 'MD'), 1, df['SEP'])\n",
    "df['SEP'] = np.where((df['Last Update'] >= '2020-03-11') & (df.State == 'MA'), 1, df['SEP'])\n",
    "df['SEP'] = np.where((df['Last Update'] >= '2020-03-17') & (df.State == 'NV'), 1, df['SEP'])\n",
    "df['SEP'] = np.where((df['Last Update'] >= '2020-03-16') & (df.State == 'NY'), 1, df['SEP'])\n",
    "df['SEP'] = np.where((df['Last Update'] >= '2020-03-23') & (df.State == 'RI'), 1, df['SEP'])\n",
    "df['SEP'] = np.where((df['Last Update'] >= '2020-03-20') & (df.State == 'VT'), 1, df['SEP'])\n",
    "df['SEP'] = np.where((df['Last Update'] >= '2020-03-10') & (df.State == 'WA'), 1, df['SEP'])\n",
    "df['SEP'] = np.where((df['Last Update'] >= '2020-03-20') & (df.State == 'MN'), 1, df['SEP'])"
   ]
  },
  {
   "cell_type": "code",
   "execution_count": 277,
   "metadata": {},
   "outputs": [
    {
     "data": {
      "text/plain": [
       "0    1323\n",
       "1     237\n",
       "Name: SEP, dtype: int64"
      ]
     },
     "execution_count": 277,
     "metadata": {},
     "output_type": "execute_result"
    }
   ],
   "source": [
    "df['SEP'].value_counts()"
   ]
  },
  {
   "cell_type": "code",
   "execution_count": 278,
   "metadata": {},
   "outputs": [],
   "source": [
    "# Section 1135 waiver\n",
    "df['Waiver 1135'] = np.where((df['Last Update'] >= '2020-03-23') & (df.State == 'AL'), 1, df['Waiver 1135'])\n",
    "df['Waiver 1135'] = np.where((df['Last Update'] >= '2020-03-23') & (df.State == 'AZ'), 1, df['Waiver 1135'])\n",
    "df['Waiver 1135'] = np.where((df['Last Update'] >= '2020-03-23') & (df.State == 'CA'), 1, df['Waiver 1135'])\n",
    "df['Waiver 1135'] = np.where((df['Last Update'] >= '2020-03-26') & (df.State == 'CO'), 1, df['Waiver 1135'])\n",
    "df['Waiver 1135'] = np.where((df['Last Update'] >= '2020-03-27') & (df.State == 'CT'), 1, df['Waiver 1135'])\n",
    "df['Waiver 1135'] = np.where((df['Last Update'] >= '2020-03-27') & (df.State == 'DE'), 1, df['Waiver 1135'])\n",
    "df['Waiver 1135'] = np.where((df['Last Update'] >= '2020-03-16') & (df.State == 'FL'), 1, df['Waiver 1135'])\n",
    "df['Waiver 1135'] = np.where((df['Last Update'] >= '2020-03-26') & (df.State == 'HI'), 1, df['Waiver 1135'])\n",
    "df['Waiver 1135'] = np.where((df['Last Update'] >= '2020-03-26') & (df.State == 'ID'), 1, df['Waiver 1135'])\n",
    "df['Waiver 1135'] = np.where((df['Last Update'] >= '2020-03-23') & (df.State == 'IL'), 1, df['Waiver 1135'])\n",
    "df['Waiver 1135'] = np.where((df['Last Update'] >= '2020-03-25') & (df.State == 'IN'), 1, df['Waiver 1135'])\n",
    "df['Waiver 1135'] = np.where((df['Last Update'] >= '2020-03-25') & (df.State == 'IA'), 1, df['Waiver 1135'])\n",
    "df['Waiver 1135'] = np.where((df['Last Update'] >= '2020-03-25') & (df.State == 'KS'), 1, df['Waiver 1135'])\n",
    "df['Waiver 1135'] = np.where((df['Last Update'] >= '2020-03-25') & (df.State == 'KY'), 1, df['Waiver 1135'])\n",
    "df['Waiver 1135'] = np.where((df['Last Update'] >= '2020-03-23') & (df.State == 'LA'), 1, df['Waiver 1135'])\n",
    "df['Waiver 1135'] = np.where((df['Last Update'] >= '2020-03-26') & (df.State == 'MD'), 1, df['Waiver 1135'])\n",
    "df['Waiver 1135'] = np.where((df['Last Update'] >= '2020-03-26') & (df.State == 'MA'), 1, df['Waiver 1135'])\n",
    "df['Waiver 1135'] = np.where((df['Last Update'] >= '2020-03-27') & (df.State == 'MN'), 1, df['Waiver 1135'])\n",
    "df['Waiver 1135'] = np.where((df['Last Update'] >= '2020-03-23') & (df.State == 'MS'), 1, df['Waiver 1135'])\n",
    "df['Waiver 1135'] = np.where((df['Last Update'] >= '2020-03-25') & (df.State == 'MO'), 1, df['Waiver 1135'])\n",
    "df['Waiver 1135'] = np.where((df['Last Update'] >= '2020-03-23') & (df.State == 'NH'), 1, df['Waiver 1135'])\n",
    "df['Waiver 1135'] = np.where((df['Last Update'] >= '2020-03-23') & (df.State == 'NJ'), 1, df['Waiver 1135'])\n",
    "df['Waiver 1135'] = np.where((df['Last Update'] >= '2020-03-23') & (df.State == 'NM'), 1, df['Waiver 1135'])\n",
    "df['Waiver 1135'] = np.where((df['Last Update'] >= '2020-03-26') & (df.State == 'NY'), 1, df['Waiver 1135'])\n",
    "df['Waiver 1135'] = np.where((df['Last Update'] >= '2020-03-23') & (df.State == 'NC'), 1, df['Waiver 1135'])\n",
    "df['Waiver 1135'] = np.where((df['Last Update'] >= '2020-03-24') & (df.State == 'ND'), 1, df['Waiver 1135'])\n",
    "df['Waiver 1135'] = np.where((df['Last Update'] >= '2020-03-24') & (df.State == 'OK'), 1, df['Waiver 1135'])\n",
    "df['Waiver 1135'] = np.where((df['Last Update'] >= '2020-03-25') & (df.State == 'OR'), 1, df['Waiver 1135'])\n",
    "df['Waiver 1135'] = np.where((df['Last Update'] >= '2020-03-27') & (df.State == 'PA'), 1, df['Waiver 1135'])\n",
    "df['Waiver 1135'] = np.where((df['Last Update'] >= '2020-03-25') & (df.State == 'RI'), 1, df['Waiver 1135'])\n",
    "df['Waiver 1135'] = np.where((df['Last Update'] >= '2020-03-24') & (df.State == 'SD'), 1, df['Waiver 1135'])\n",
    "df['Waiver 1135'] = np.where((df['Last Update'] >= '2020-03-23') & (df.State == 'VA'), 1, df['Waiver 1135'])\n",
    "df['Waiver 1135'] = np.where((df['Last Update'] >= '2020-03-15') & (df.State == 'WA'), 1, df['Waiver 1135'])\n",
    "df['Waiver 1135'] = np.where((df['Last Update'] >= '2020-03-27') & (df.State == 'WY'), 1, df['Waiver 1135'])"
   ]
  },
  {
   "cell_type": "code",
   "execution_count": 279,
   "metadata": {},
   "outputs": [
    {
     "data": {
      "text/plain": [
       "0    1547\n",
       "1      13\n",
       "Name: Waiver 1135, dtype: int64"
      ]
     },
     "execution_count": 279,
     "metadata": {},
     "output_type": "execute_result"
    }
   ],
   "source": [
    "df['Waiver 1135'].value_counts()"
   ]
  },
  {
   "cell_type": "code",
   "execution_count": 280,
   "metadata": {},
   "outputs": [],
   "source": [
    "# Paid sick leave\n",
    "df['Paid Sick Leave'] = np.where((df['Last Update'] >= '2018-01-01') & (df.State == 'WA'), 1, df['Paid Sick Leave'])\n",
    "df['Paid Sick Leave'] = np.where((df['Last Update'] >= '2016-01-01') & (df.State == 'OR'), 1, df['Paid Sick Leave'])\n",
    "df['Paid Sick Leave'] = np.where((df['Last Update'] >= '2018-07-01') & (df.State == 'CA'), 1, df['Paid Sick Leave'])\n",
    "df['Paid Sick Leave'] = np.where((df['Last Update'] >= '2017-07-01') & (df.State == 'AZ'), 1, df['Paid Sick Leave'])\n",
    "df['Paid Sick Leave'] = np.where((df['Last Update'] >= '2020-03-10') & (df.State == 'CO'), 1, df['Paid Sick Leave'])\n",
    "df['Paid Sick Leave'] = np.where((df['Last Update'] >= '2020-03-17') & (df.State == 'NY'), 1, df['Paid Sick Leave'])\n",
    "df['Paid Sick Leave'] = np.where((df['Last Update'] >= '2018-01-01') & (df.State == 'VT'), 1, df['Paid Sick Leave'])\n",
    "df['Paid Sick Leave'] = np.where((df['Last Update'] >= '2015-07-01') & (df.State == 'MA'), 1, df['Paid Sick Leave'])\n",
    "df['Paid Sick Leave'] = np.where((df['Last Update'] >= '2018-07-01') & (df.State == 'RI'), 1, df['Paid Sick Leave'])\n",
    "df['Paid Sick Leave'] = np.where((df['Last Update'] >= '2012-01-01') & (df.State == 'CT'), 1, df['Paid Sick Leave'])\n",
    "df['Paid Sick Leave'] = np.where((df['Last Update'] >= '2018-10-01') & (df.State == 'NJ'), 1, df['Paid Sick Leave'])\n",
    "df['Paid Sick Leave'] = np.where((df['Last Update'] >= '2018-02-01') & (df.State == 'MD'), 1, df['Paid Sick Leave'])\n",
    "df['Paid Sick Leave'] = np.where((df['Last Update'] >= '2014-01-01') & (df.State == 'D.C.'), 1, df['Paid Sick Leave'])\n",
    "\n",
    "#df['Paid Sick Leave'] = np.where((df['Last Update'] >= '2019-03-01') & (df.State == 'MI'), 1, df['Paid Sick Leave'])\n",
    "#df['Paid Sick Leave'] = np.where((df['Last Update'] >= '2020-01-01') & (df.State == 'NV'), 1, df['Paid Sick Leave'])"
   ]
  },
  {
   "cell_type": "code",
   "execution_count": 281,
   "metadata": {},
   "outputs": [
    {
     "data": {
      "text/plain": [
       "0    873\n",
       "1    687\n",
       "Name: Paid Sick Leave, dtype: int64"
      ]
     },
     "execution_count": 281,
     "metadata": {},
     "output_type": "execute_result"
    }
   ],
   "source": [
    "df['Paid Sick Leave'].value_counts()"
   ]
  },
  {
   "cell_type": "code",
   "execution_count": 282,
   "metadata": {},
   "outputs": [
    {
     "data": {
      "text/html": [
       "<div>\n",
       "<style scoped>\n",
       "    .dataframe tbody tr th:only-of-type {\n",
       "        vertical-align: middle;\n",
       "    }\n",
       "\n",
       "    .dataframe tbody tr th {\n",
       "        vertical-align: top;\n",
       "    }\n",
       "\n",
       "    .dataframe thead th {\n",
       "        text-align: right;\n",
       "    }\n",
       "</style>\n",
       "<table border=\"1\" class=\"dataframe\">\n",
       "  <thead>\n",
       "    <tr style=\"text-align: right;\">\n",
       "      <th></th>\n",
       "      <th>Province/State</th>\n",
       "      <th>Country/Region</th>\n",
       "      <th>Last Update</th>\n",
       "      <th>Confirmed</th>\n",
       "      <th>Deaths</th>\n",
       "      <th>Recovered</th>\n",
       "      <th>Latitude</th>\n",
       "      <th>Longitude</th>\n",
       "      <th>Province</th>\n",
       "      <th>State</th>\n",
       "      <th>Free Treatment</th>\n",
       "      <th>Early RX Refills</th>\n",
       "      <th>SEP</th>\n",
       "      <th>Waiver 1135</th>\n",
       "      <th>Paid Sick Leave</th>\n",
       "    </tr>\n",
       "  </thead>\n",
       "  <tbody>\n",
       "    <tr>\n",
       "      <td>36</td>\n",
       "      <td>Unassigned Location</td>\n",
       "      <td>US</td>\n",
       "      <td>2020-02-26 20:03:06</td>\n",
       "      <td>42.0</td>\n",
       "      <td>0.0</td>\n",
       "      <td>0.0</td>\n",
       "      <td>NaN</td>\n",
       "      <td>NaN</td>\n",
       "      <td>Unassigned Location</td>\n",
       "      <td>Unassigned Location</td>\n",
       "      <td>0</td>\n",
       "      <td>0</td>\n",
       "      <td>0</td>\n",
       "      <td>0</td>\n",
       "      <td>0</td>\n",
       "    </tr>\n",
       "    <tr>\n",
       "      <td>69</td>\n",
       "      <td>Chicago, IL</td>\n",
       "      <td>US</td>\n",
       "      <td>2020-02-09 19:03:03</td>\n",
       "      <td>2.0</td>\n",
       "      <td>0.0</td>\n",
       "      <td>2.0</td>\n",
       "      <td>NaN</td>\n",
       "      <td>NaN</td>\n",
       "      <td>Chicago</td>\n",
       "      <td>IL</td>\n",
       "      <td>0</td>\n",
       "      <td>0</td>\n",
       "      <td>0</td>\n",
       "      <td>0</td>\n",
       "      <td>0</td>\n",
       "    </tr>\n",
       "    <tr>\n",
       "      <td>70</td>\n",
       "      <td>San Benito, CA</td>\n",
       "      <td>US</td>\n",
       "      <td>2020-02-03 03:53:02</td>\n",
       "      <td>2.0</td>\n",
       "      <td>0.0</td>\n",
       "      <td>0.0</td>\n",
       "      <td>NaN</td>\n",
       "      <td>NaN</td>\n",
       "      <td>San Benito</td>\n",
       "      <td>CA</td>\n",
       "      <td>0</td>\n",
       "      <td>0</td>\n",
       "      <td>0</td>\n",
       "      <td>0</td>\n",
       "      <td>1</td>\n",
       "    </tr>\n",
       "    <tr>\n",
       "      <td>71</td>\n",
       "      <td>San Diego County, CA</td>\n",
       "      <td>US</td>\n",
       "      <td>2020-02-21 05:43:02</td>\n",
       "      <td>2.0</td>\n",
       "      <td>0.0</td>\n",
       "      <td>1.0</td>\n",
       "      <td>NaN</td>\n",
       "      <td>NaN</td>\n",
       "      <td>San Diego County</td>\n",
       "      <td>CA</td>\n",
       "      <td>0</td>\n",
       "      <td>0</td>\n",
       "      <td>1</td>\n",
       "      <td>0</td>\n",
       "      <td>1</td>\n",
       "    </tr>\n",
       "    <tr>\n",
       "      <td>72</td>\n",
       "      <td>Santa Clara, CA</td>\n",
       "      <td>US</td>\n",
       "      <td>2020-02-21 05:23:04</td>\n",
       "      <td>2.0</td>\n",
       "      <td>0.0</td>\n",
       "      <td>1.0</td>\n",
       "      <td>NaN</td>\n",
       "      <td>NaN</td>\n",
       "      <td>Santa Clara</td>\n",
       "      <td>CA</td>\n",
       "      <td>0</td>\n",
       "      <td>0</td>\n",
       "      <td>1</td>\n",
       "      <td>0</td>\n",
       "      <td>1</td>\n",
       "    </tr>\n",
       "    <tr>\n",
       "      <td>...</td>\n",
       "      <td>...</td>\n",
       "      <td>...</td>\n",
       "      <td>...</td>\n",
       "      <td>...</td>\n",
       "      <td>...</td>\n",
       "      <td>...</td>\n",
       "      <td>...</td>\n",
       "      <td>...</td>\n",
       "      <td>...</td>\n",
       "      <td>...</td>\n",
       "      <td>...</td>\n",
       "      <td>...</td>\n",
       "      <td>...</td>\n",
       "      <td>...</td>\n",
       "      <td>...</td>\n",
       "    </tr>\n",
       "    <tr>\n",
       "      <td>246</td>\n",
       "      <td>Yolo County, CA</td>\n",
       "      <td>US</td>\n",
       "      <td>2020-03-06 20:13:14</td>\n",
       "      <td>1.0</td>\n",
       "      <td>0.0</td>\n",
       "      <td>0.0</td>\n",
       "      <td>38.7646</td>\n",
       "      <td>-121.9018</td>\n",
       "      <td>Yolo County</td>\n",
       "      <td>CA</td>\n",
       "      <td>0</td>\n",
       "      <td>0</td>\n",
       "      <td>1</td>\n",
       "      <td>0</td>\n",
       "      <td>1</td>\n",
       "    </tr>\n",
       "    <tr>\n",
       "      <td>251</td>\n",
       "      <td>Lackland, TX</td>\n",
       "      <td>US</td>\n",
       "      <td>2020-02-24 23:33:02</td>\n",
       "      <td>0.0</td>\n",
       "      <td>0.0</td>\n",
       "      <td>0.0</td>\n",
       "      <td>29.3829</td>\n",
       "      <td>-98.6134</td>\n",
       "      <td>Lackland</td>\n",
       "      <td>TX</td>\n",
       "      <td>0</td>\n",
       "      <td>0</td>\n",
       "      <td>0</td>\n",
       "      <td>0</td>\n",
       "      <td>0</td>\n",
       "    </tr>\n",
       "    <tr>\n",
       "      <td>252</td>\n",
       "      <td>Montgomery County, TX</td>\n",
       "      <td>US</td>\n",
       "      <td>2020-03-07 19:53:02</td>\n",
       "      <td>0.0</td>\n",
       "      <td>0.0</td>\n",
       "      <td>0.0</td>\n",
       "      <td>30.3213</td>\n",
       "      <td>-95.4778</td>\n",
       "      <td>Montgomery County</td>\n",
       "      <td>TX</td>\n",
       "      <td>0</td>\n",
       "      <td>0</td>\n",
       "      <td>0</td>\n",
       "      <td>0</td>\n",
       "      <td>0</td>\n",
       "    </tr>\n",
       "    <tr>\n",
       "      <td>253</td>\n",
       "      <td>Omaha, NE</td>\n",
       "      <td>US</td>\n",
       "      <td>2020-02-24 23:33:02</td>\n",
       "      <td>0.0</td>\n",
       "      <td>0.0</td>\n",
       "      <td>0.0</td>\n",
       "      <td>41.2545</td>\n",
       "      <td>-95.9758</td>\n",
       "      <td>Omaha</td>\n",
       "      <td>NE</td>\n",
       "      <td>0</td>\n",
       "      <td>0</td>\n",
       "      <td>0</td>\n",
       "      <td>0</td>\n",
       "      <td>0</td>\n",
       "    </tr>\n",
       "    <tr>\n",
       "      <td>254</td>\n",
       "      <td>Travis, CA</td>\n",
       "      <td>US</td>\n",
       "      <td>2020-02-24 23:33:02</td>\n",
       "      <td>0.0</td>\n",
       "      <td>0.0</td>\n",
       "      <td>0.0</td>\n",
       "      <td>38.2721</td>\n",
       "      <td>-121.9399</td>\n",
       "      <td>Travis</td>\n",
       "      <td>CA</td>\n",
       "      <td>0</td>\n",
       "      <td>0</td>\n",
       "      <td>1</td>\n",
       "      <td>0</td>\n",
       "      <td>1</td>\n",
       "    </tr>\n",
       "  </tbody>\n",
       "</table>\n",
       "<p>1560 rows × 15 columns</p>\n",
       "</div>"
      ],
      "text/plain": [
       "            Province/State Country/Region         Last Update  Confirmed  \\\n",
       "36     Unassigned Location             US 2020-02-26 20:03:06       42.0   \n",
       "69             Chicago, IL             US 2020-02-09 19:03:03        2.0   \n",
       "70          San Benito, CA             US 2020-02-03 03:53:02        2.0   \n",
       "71    San Diego County, CA             US 2020-02-21 05:43:02        2.0   \n",
       "72         Santa Clara, CA             US 2020-02-21 05:23:04        2.0   \n",
       "..                     ...            ...                 ...        ...   \n",
       "246        Yolo County, CA             US 2020-03-06 20:13:14        1.0   \n",
       "251           Lackland, TX             US 2020-02-24 23:33:02        0.0   \n",
       "252  Montgomery County, TX             US 2020-03-07 19:53:02        0.0   \n",
       "253              Omaha, NE             US 2020-02-24 23:33:02        0.0   \n",
       "254             Travis, CA             US 2020-02-24 23:33:02        0.0   \n",
       "\n",
       "     Deaths  Recovered  Latitude  Longitude             Province  \\\n",
       "36      0.0        0.0       NaN        NaN  Unassigned Location   \n",
       "69      0.0        2.0       NaN        NaN              Chicago   \n",
       "70      0.0        0.0       NaN        NaN           San Benito   \n",
       "71      0.0        1.0       NaN        NaN     San Diego County   \n",
       "72      0.0        1.0       NaN        NaN          Santa Clara   \n",
       "..      ...        ...       ...        ...                  ...   \n",
       "246     0.0        0.0   38.7646  -121.9018          Yolo County   \n",
       "251     0.0        0.0   29.3829   -98.6134             Lackland   \n",
       "252     0.0        0.0   30.3213   -95.4778    Montgomery County   \n",
       "253     0.0        0.0   41.2545   -95.9758                Omaha   \n",
       "254     0.0        0.0   38.2721  -121.9399               Travis   \n",
       "\n",
       "                   State  Free Treatment  Early RX Refills  SEP  Waiver 1135  \\\n",
       "36   Unassigned Location               0                 0    0            0   \n",
       "69                    IL               0                 0    0            0   \n",
       "70                    CA               0                 0    0            0   \n",
       "71                    CA               0                 0    1            0   \n",
       "72                    CA               0                 0    1            0   \n",
       "..                   ...             ...               ...  ...          ...   \n",
       "246                   CA               0                 0    1            0   \n",
       "251                   TX               0                 0    0            0   \n",
       "252                   TX               0                 0    0            0   \n",
       "253                   NE               0                 0    0            0   \n",
       "254                   CA               0                 0    1            0   \n",
       "\n",
       "     Paid Sick Leave  \n",
       "36                 0  \n",
       "69                 0  \n",
       "70                 1  \n",
       "71                 1  \n",
       "72                 1  \n",
       "..               ...  \n",
       "246                1  \n",
       "251                0  \n",
       "252                0  \n",
       "253                0  \n",
       "254                1  \n",
       "\n",
       "[1560 rows x 15 columns]"
      ]
     },
     "execution_count": 282,
     "metadata": {},
     "output_type": "execute_result"
    }
   ],
   "source": [
    "df"
   ]
  },
  {
   "cell_type": "code",
   "execution_count": 283,
   "metadata": {},
   "outputs": [
    {
     "data": {
      "text/plain": [
       "(1560, 15)"
      ]
     },
     "execution_count": 283,
     "metadata": {},
     "output_type": "execute_result"
    }
   ],
   "source": [
    "df.shape"
   ]
  },
  {
   "cell_type": "code",
   "execution_count": 284,
   "metadata": {},
   "outputs": [
    {
     "name": "stdout",
     "output_type": "stream",
     "text": [
      "<class 'pandas.core.frame.DataFrame'>\n",
      "Int64Index: 1560 entries, 36 to 254\n",
      "Data columns (total 15 columns):\n",
      "Province/State      1560 non-null object\n",
      "Country/Region      1560 non-null object\n",
      "Last Update         1560 non-null datetime64[ns]\n",
      "Confirmed           1560 non-null float64\n",
      "Deaths              1530 non-null float64\n",
      "Recovered           1530 non-null float64\n",
      "Latitude            1186 non-null float64\n",
      "Longitude           1186 non-null float64\n",
      "Province            1560 non-null object\n",
      "State               1529 non-null object\n",
      "Free Treatment      1560 non-null int64\n",
      "Early RX Refills    1560 non-null int64\n",
      "SEP                 1560 non-null int64\n",
      "Waiver 1135         1560 non-null int64\n",
      "Paid Sick Leave     1560 non-null int64\n",
      "dtypes: datetime64[ns](1), float64(5), int64(5), object(4)\n",
      "memory usage: 195.0+ KB\n"
     ]
    }
   ],
   "source": [
    "df.info()"
   ]
  },
  {
   "cell_type": "code",
   "execution_count": null,
   "metadata": {},
   "outputs": [],
   "source": []
  }
 ],
 "metadata": {
  "kernelspec": {
   "display_name": "Python 3",
   "language": "python",
   "name": "python3"
  },
  "language_info": {
   "codemirror_mode": {
    "name": "ipython",
    "version": 3
   },
   "file_extension": ".py",
   "mimetype": "text/x-python",
   "name": "python",
   "nbconvert_exporter": "python",
   "pygments_lexer": "ipython3",
   "version": "3.7.3"
  }
 },
 "nbformat": 4,
 "nbformat_minor": 2
}
